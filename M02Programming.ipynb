{
 "cells": [
  {
   "cell_type": "code",
   "execution_count": 5,
   "id": "d1343245",
   "metadata": {},
   "outputs": [
    {
     "name": "stdout",
     "output_type": "stream",
     "text": [
      "just right\n"
     ]
    }
   ],
   "source": [
    "4.1\n",
    "\n",
    "secret = 3\n",
    "guess = 6\n",
    "\n",
    "if guess < secret:\n",
    "    print(\"too low\")\n",
    "elif guess > secret:\n",
    "    print(\"too high\")\n",
    "else: print (\"just right\")"
   ]
  },
  {
   "cell_type": "code",
   "execution_count": 10,
   "id": "69f19a5d",
   "metadata": {},
   "outputs": [
    {
     "name": "stdout",
     "output_type": "stream",
     "text": [
      "Watermelon is true\n"
     ]
    }
   ],
   "source": [
    "4.2\n",
    "\n",
    "small = False\n",
    "green = True\n",
    "\n",
    "if small == True:\n",
    "    if green == True:\n",
    "        print(\"Pea is true\")\n",
    "    else: print(\"Cherry is true\")\n",
    "else:\n",
    "    if green == True:\n",
    "        print(\"Watermelon is true\")\n",
    "    else: print(\"Pumpkin is true\")"
   ]
  },
  {
   "cell_type": "code",
   "execution_count": 13,
   "id": "44f8d677",
   "metadata": {},
   "outputs": [
    {
     "name": "stdout",
     "output_type": "stream",
     "text": [
      "3\n",
      "2\n",
      "1\n",
      "0\n"
     ]
    }
   ],
   "source": [
    "6.1\n",
    "\n",
    "count = [3,2,1,0]\n",
    "for x in count:\n",
    "    print(x)"
   ]
  },
  {
   "cell_type": "code",
   "execution_count": 17,
   "id": "9b26572a",
   "metadata": {},
   "outputs": [
    {
     "name": "stdout",
     "output_type": "stream",
     "text": [
      "oops\n"
     ]
    }
   ],
   "source": [
    "6.2\n",
    "\n",
    "guess_me = 7\n",
    "\n",
    "number = 8\n",
    "\n",
    "while number!= guess_me:\n",
    "    if number < guess_me:\n",
    "        print(\"too low\")\n",
    "    if number > guess_me:\n",
    "        print(\"oops\")\n",
    "        break\n",
    "    number = number + 1\n",
    "else:\n",
    "    print (\"found it!\")"
   ]
  },
  {
   "cell_type": "code",
   "execution_count": 25,
   "id": "f35f23fa",
   "metadata": {},
   "outputs": [
    {
     "name": "stdout",
     "output_type": "stream",
     "text": [
      "too low\n",
      "too low\n",
      "too low\n",
      "too low\n",
      "too low\n",
      "found it\n"
     ]
    }
   ],
   "source": [
    "6.3\n",
    "\n",
    "guess_me = 5\n",
    "\n",
    "for number in range(10):\n",
    "    if number < guess_me:\n",
    "        print(\"too low\")\n",
    "    if number > guess_me:\n",
    "        print(\"oops\")\n",
    "        break\n",
    "    if number == guess_me:\n",
    "        print(\"found it\")\n",
    "        break\n"
   ]
  },
  {
   "cell_type": "code",
   "execution_count": 1,
   "id": "a64efd94",
   "metadata": {},
   "outputs": [
    {
     "data": {
      "text/plain": [
       "'C:\\\\Users\\\\huels\\\\Desktop\\\\Python Shit\\\\homework shit\\\\M02'"
      ]
     },
     "execution_count": 1,
     "metadata": {},
     "output_type": "execute_result"
    }
   ],
   "source": [
    "%pwd\n"
   ]
  },
  {
   "cell_type": "code",
   "execution_count": null,
   "id": "d86fdf5e",
   "metadata": {},
   "outputs": [],
   "source": []
  }
 ],
 "metadata": {
  "kernelspec": {
   "display_name": "Python 3 (ipykernel)",
   "language": "python",
   "name": "python3"
  },
  "language_info": {
   "codemirror_mode": {
    "name": "ipython",
    "version": 3
   },
   "file_extension": ".py",
   "mimetype": "text/x-python",
   "name": "python",
   "nbconvert_exporter": "python",
   "pygments_lexer": "ipython3",
   "version": "3.11.5"
  }
 },
 "nbformat": 4,
 "nbformat_minor": 5
}
